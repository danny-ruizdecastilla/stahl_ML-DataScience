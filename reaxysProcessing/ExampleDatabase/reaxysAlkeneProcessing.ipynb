{
 "cells": [
  {
   "cell_type": "code",
   "execution_count": 22,
   "id": "d603d440-d63b-4e98-88a8-af79f0b001e4",
   "metadata": {},
   "outputs": [],
   "source": [
    "import sys\n",
    "import glob\n",
    "import numpy as np\n",
    "import os\n",
    "from rdkit import Chem\n",
    "import pandas as pd\n",
    "from rdkit.Chem.PandasTools import LoadSDF\n",
    "import matplotlib.pyplot as plt\n",
    "import random\n",
    "import networkx as nx\n",
    "from networkx import Graph\n",
    "from itertools import combinations\n",
    "from sklearn.cluster import KMeans, DBSCAN, AgglomerativeClustering\n",
    "from sklearn.preprocessing import StandardScaler\n",
    "from sklearn.preprocessing import StandardScaler\n",
    "from sklearn.decomposition import PCA\n",
    "from rdkit.Chem import Descriptors, MACCSkeys\n",
    "from rdkit.Chem import AllChem\n",
    "import datetime\n",
    "from multiprocessing import Pool"
   ]
  },
  {
   "cell_type": "code",
   "execution_count": 54,
   "id": "3570d476-fef2-4a86-9730-131d6a645661",
   "metadata": {},
   "outputs": [],
   "source": [
    "def filtereAlkenes(df, smilesStr):#checks if there are 2 alkenes, if there are, row gets eliminated from datafraome\n",
    "    smilesList = list(df[smilesStr])\n",
    "    for i, smiles in enumerate(smilesList):\n",
    "        \n",
    "        doubleC = 0\n",
    "        try:\n",
    "            molec2 = Chem.MolFromSmiles(smiles)\n",
    "            molec2.GetBonds()\n",
    "            #print(smiles)\n",
    "            #passes valence check \n",
    "            for bond in molec2.GetBonds():\n",
    "                at1 = bond.GetBeginAtom()\n",
    "                at2 = bond.GetEndAtom()\n",
    "                if at1.GetAtomicNum() == 6 and at2.GetAtomicNum() == 6 and bond.GetBondType() == Chem.BondType.DOUBLE:\n",
    "                    doubleC +=1\n",
    "            if not doubleC == 1:\n",
    "                df = df.drop(index=i)\n",
    "        except AttributeError:\n",
    "            df = df.drop(index=i)\n",
    "            print(smiles)\n",
    "            continue\n",
    "    return df\n",
    "\n",
    "    "
   ]
  },
  {
   "cell_type": "code",
   "execution_count": 53,
   "id": "9ddee1e2-e164-47fd-8c84-e2e8e2c5bb5a",
   "metadata": {},
   "outputs": [],
   "source": [
    "def masterDF(fileDir: str , fileStr: str, ) -> pd.DataFrame():\n",
    "    pdDirs = glob.glob(fileDir + \"/\" + fileStr + \"*.xlsx\")\n",
    "    #print(pdDirs)\n",
    "    dfList = [pd.read_excel(file) for file in pdDirs]\n",
    "    \n",
    "    masterDF_ = pd.concat(dfList, ignore_index=True)\n",
    "    masterAlkenes = filtereAlkenes(initialAlkenes, smileStr)\n",
    "    \n",
    "    masterAlkenes.to_excel(\"MasterDataFrame\" + fileStr + \".xlsx\", index=False)\n",
    "    return masterDF_"
   ]
  },
  {
   "cell_type": "code",
   "execution_count": 55,
   "id": "e37ecb88-a3b8-428e-8cc5-e11b654b2449",
   "metadata": {},
   "outputs": [
    {
     "name": "stderr",
     "output_type": "stream",
     "text": [
      "[11:35:32] Explicit valence for atom # 1 C, 5, is greater than permitted\n"
     ]
    },
    {
     "name": "stdout",
     "output_type": "stream",
     "text": [
      "C[C]1=2[Re+7]345([C@@-]1([C]3(CCC=C)=[C]4(C)[C]=25C)C)(=[O--])(=[O--])=[O--]\n"
     ]
    },
    {
     "name": "stderr",
     "output_type": "stream",
     "text": [
      "[11:35:32] Explicit valence for atom # 1 N, 4, is greater than permitted\n",
      "[11:35:32] Explicit valence for atom # 7 B, 4, is greater than permitted\n",
      "[11:35:32] Explicit valence for atom # 1 N, 4, is greater than permitted\n",
      "[11:35:32] Explicit valence for atom # 1 N, 4, is greater than permitted\n",
      "[11:35:32] Explicit valence for atom # 6 B, 4, is greater than permitted\n",
      "[11:35:32] Explicit valence for atom # 1 N, 4, is greater than permitted\n",
      "[11:35:32] Explicit valence for atom # 7 N, 4, is greater than permitted\n",
      "[11:35:32] Explicit valence for atom # 7 N, 4, is greater than permitted\n",
      "[11:35:32] Explicit valence for atom # 7 N, 4, is greater than permitted\n",
      "[11:35:32] Explicit valence for atom # 7 N, 4, is greater than permitted\n",
      "[11:35:32] Explicit valence for atom # 7 N, 4, is greater than permitted\n",
      "[11:35:32] Explicit valence for atom # 7 N, 4, is greater than permitted\n",
      "[11:35:32] Explicit valence for atom # 7 N, 4, is greater than permitted\n"
     ]
    },
    {
     "name": "stdout",
     "output_type": "stream",
     "text": [
      "C[N]12CC(=O)O[B]1(OC(=O)C2)\\C=C\\C1CCCCC1\n",
      "CC1=CC=C(\\C=C\\[B]23OC(=O)C[N]2(C)CC(=O)O3)C=C1\n",
      "C[N]12CC(=O)O[B]1(OC(=O)C2)\\C=C\\C1=CC=C(F)C=C1\n",
      "C[N]12CC(=O)O[B]1(OC(=O)C2)\\C=C\\CCC1=CC=CC=C1\n",
      "CC(C)(C)\\C=C\\[B]12OC(=O)C[N]1(C)CC(=O)O2\n",
      "C[N]12CC(=O)O[B]1(OC(=O)C2)C(=C)C1=CC=CC=C1\n",
      "[H][C@]12C[C@]([H])([C@@H](C)[C@@H](C1)[N]13CC(=O)O[B]1(OC(=O)C3)\\C=C\\C1=CC=CC=C1)C2(C)C\n",
      "[H][C@]12C[C@]([H])([C@@H](C)[C@@H](C1)[N]13CC(=O)O[B]1(OC(=O)C3)\\C=C\\C1=CC=CC(=C1)C(=O)OC)C2(C)C\n",
      "[H][C@]12C[C@]([H])([C@@H](C)[C@@H](C1)[N]13CC(=O)O[B]1(OC(=O)C3)\\C=C\\C)C2(C)C\n",
      "[H][C@]12C[C@]([H])([C@@H](C)[C@@H](C1)[N]13CC(=O)O[B]1(OC(=O)C3)\\C=C\\CO)C2(C)C\n",
      "[H][C@]12C[C@]([H])([C@@H](C)[C@@H](C1)[N]13CC(=O)O[B]1(OC(=O)C3)\\C=C\\CO[Si](C)(C)C(C)(C)C)C2(C)C\n",
      "[H][C@]12C[C@]([H])([C@@H](C)[C@@H](C1)[N]13CC(=O)O[B]1(OC(=O)C3)C=C(C)C)C2(C)C\n",
      "[H][C@]12C[C@]([H])([C@@H](C)[C@@H](C1)[N]13CC(=O)O[B]1(OC(=O)C3)C=C)C2(C)C\n"
     ]
    },
    {
     "name": "stderr",
     "output_type": "stream",
     "text": [
      "[11:35:33] Explicit valence for atom # 12 B, 4, is greater than permitted\n",
      "[11:35:33] Explicit valence for atom # 1 N, 4, is greater than permitted\n",
      "[11:35:33] Explicit valence for atom # 8 B, 4, is greater than permitted\n",
      "[11:35:33] Explicit valence for atom # 1 N, 4, is greater than permitted\n",
      "[11:35:33] Explicit valence for atom # 12 B, 4, is greater than permitted\n",
      "[11:35:33] Explicit valence for atom # 1 N, 4, is greater than permitted\n",
      "[11:35:33] Explicit valence for atom # 12 B, 4, is greater than permitted\n",
      "[11:35:33] Explicit valence for atom # 10 B, 4, is greater than permitted\n",
      "[11:35:33] Explicit valence for atom # 1 N, 4, is greater than permitted\n",
      "[11:35:33] Explicit valence for atom # 1 N, 4, is greater than permitted\n"
     ]
    },
    {
     "name": "stdout",
     "output_type": "stream",
     "text": [
      "CCCCCCC#CC#CC=C[B]12OC(=O)C[N]1(C)CC(=O)O2\n",
      "C[N]12CC(=O)O[B]1(OC(=O)C2)C=CC#C\n",
      "CCCCC#CC=C[B]12OC(=O)C[N]1(C)CC(=O)O2\n",
      "C[N]12CC(=O)O[B]1(OC(=O)C2)C=CC#CC1=CC=CC=C1\n",
      "COC1=C(C=CC=C1)C#CC=C[B]12OC(=O)C[N]1(C)CC(=O)O2\n",
      "C[N]12CC(=O)O[B]1(OC(=O)C2)C=CC#CC1=C(C=CC=C1)C(F)(F)F\n",
      "CCCCC#CC=C(CCCC)[B]12OC(=O)C[NH]1(C)CC(=O)O2\n",
      "CCCCCCC#CC=C[B]12OC(=O)C[N]1(C)CC(=O)O2\n",
      "C[N]12CC(=O)O[B]1(OC(=O)C2)C=CC#CCCC1=CC=CC=C1\n",
      "C[N]12CC(=O)O[B]1(OC(=O)C2)C=CC#CC1=CC=C(C=C1)C(F)(F)F\n"
     ]
    },
    {
     "name": "stderr",
     "output_type": "stream",
     "text": [
      "[11:35:33] Explicit valence for atom # 1 N, 4, is greater than permitted\n",
      "[11:35:33] Explicit valence for atom # 21 O, 3, is greater than permitted\n",
      "[11:35:33] Explicit valence for atom # 7 O, 3, is greater than permitted\n",
      "[11:35:33] Explicit valence for atom # 8 O, 3, is greater than permitted\n",
      "[11:35:33] Explicit valence for atom # 22 O, 3, is greater than permitted\n"
     ]
    },
    {
     "name": "stdout",
     "output_type": "stream",
     "text": [
      "C[N]12CC(=O)O[B]1(OC(=O)C2)C(\\Cl)=C\\C1=CC=CC=C1\n",
      "CC1=CC(C)=[N]2N1[BH-]1N3C(C)=CC(C)=[N]3[Ir+3]22([CH2-]C=C[CH2-]2)(C#[O])[N]2=C(C)C=C(C)N12\n",
      "CC1=C[CH2-][Ir+3]23([CH2-]1)(C#[O])[N]1=C(C)C=C(C)N1[BH-](N1C(C)=CC(C)=[N]21)N1C(C)=CC(C)=[N]31\n",
      "CC1=C(C)[CH2-][Ir+3]23([CH2-]1)(C#[O])[N]1=C(C)C=C(C)N1[BH-](N1C(C)=CC(C)=[N]21)N1C(C)=CC(C)=[N]31\n",
      "CC1=CC(C)=[N]2N1[BH-]1N3C(C)=CC(C)=[N]3[Ir+3]22([CH2-]C(=O)[C-]2=C)(C#[O])[N]2=C(C)C=C(C)N12\n"
     ]
    },
    {
     "name": "stderr",
     "output_type": "stream",
     "text": [
      "[11:35:34] Explicit valence for atom # 1 N, 4, is greater than permitted\n",
      "[11:35:34] Explicit valence for atom # 6 B, 4, is greater than permitted\n"
     ]
    },
    {
     "name": "stdout",
     "output_type": "stream",
     "text": [
      "C[N]12CC(=O)O[B]1(OC(=O)C2)\\C=C\\C1=CC=CC=C1\n",
      "CC1(C)C(=O)O[B]2(OC(=O)C(C)(C)[N]12C)C=C\n"
     ]
    },
    {
     "name": "stderr",
     "output_type": "stream",
     "text": [
      "[11:35:35] Explicit valence for atom # 1 N, 4, is greater than permitted\n",
      "[11:35:35] Explicit valence for atom # 1 N, 4, is greater than permitted\n"
     ]
    },
    {
     "name": "stdout",
     "output_type": "stream",
     "text": [
      "C[N]12CC(=O)O[B]1(OC(=O)C2)C=CC#CC1=CC=C(Br)C=C1\n",
      "C[N]12CC(=O)O[B]1(OC(=O)C2)C(=CC#CC1=CC=CC=C1)C1=CC=CC=C1\n"
     ]
    },
    {
     "name": "stderr",
     "output_type": "stream",
     "text": [
      "[11:35:35] Explicit valence for atom # 1 N, 4, is greater than permitted\n",
      "[11:35:35] Explicit valence for atom # 1 N, 4, is greater than permitted\n"
     ]
    },
    {
     "name": "stdout",
     "output_type": "stream",
     "text": [
      "C[N]12CC(=O)O[B]1(OC(=O)C2)C=C\n",
      "C[N]12CC(=O)O[B]1(OC(=O)C2)\\C=C\\C1=CC=CC=C1\n"
     ]
    },
    {
     "name": "stderr",
     "output_type": "stream",
     "text": [
      "[11:35:35] Explicit valence for atom # 7 N, 4, is greater than permitted\n"
     ]
    },
    {
     "name": "stdout",
     "output_type": "stream",
     "text": [
      "[H][C@]12C[C@]([H])([C@@H](C)[C@@H](C1)[N]13CC(=O)O[B]1(OC(=O)C3)\\C=C\\C1=CC=CC=C1)C2(C)C\n"
     ]
    },
    {
     "name": "stderr",
     "output_type": "stream",
     "text": [
      "[11:35:36] Explicit valence for atom # 1 N, 4, is greater than permitted\n"
     ]
    },
    {
     "name": "stdout",
     "output_type": "stream",
     "text": [
      "C[N@@]12CC(=O)O[B@@]1(OC(=O)C2)C(=C)[Si](C)(C)C\n"
     ]
    },
    {
     "name": "stderr",
     "output_type": "stream",
     "text": [
      "[11:35:36] Explicit valence for atom # 7 B, 4, is greater than permitted\n",
      "[11:35:36] Explicit valence for atom # 17 B, 4, is greater than permitted\n"
     ]
    },
    {
     "name": "stdout",
     "output_type": "stream",
     "text": [
      "CCCC(Cl)\\C=C\\[B]12OC(=O)C[N]1(C)CC(=O)O2\n",
      "CCC\\C=C\\C(NS(=O)(=O)C1=CC=C(C)C=C1)[B]12OC(=O)C[N]1(C)CC(=O)O2\n"
     ]
    }
   ],
   "source": [
    "smileStr = \"SMILES\"\n",
    "initialAlkenes = masterDF(\"/Users/danielruiz/Downloads/mCPBA_Lit_Database_01_27_25\" , \"mCPBA\")\n",
    "\n"
   ]
  },
  {
   "cell_type": "code",
   "execution_count": 20,
   "id": "8f40ea3d-5512-4bcd-8765-0e81413125ec",
   "metadata": {},
   "outputs": [],
   "source": [
    "synthStr = \"Catalyst\"\n",
    "yieldStr = \"Yield\"\n",
    "reactId = \"ID\"\n",
    "\n",
    "smilesMAST = list(masterAlkenes[smileStr])\n",
    "yieldsMAST = list(masterAlkenes[yieldStr])\n",
    "idMast = list(masterAlkenes[reactId])"
   ]
  },
  {
   "cell_type": "code",
   "execution_count": null,
   "id": "e6ab7af0-ffcb-4812-9aa1-fe159b87db12",
   "metadata": {},
   "outputs": [],
   "source": [
    "rdkitFeatures = calc_rdkit_desc(smilesMAST )"
   ]
  },
  {
   "cell_type": "code",
   "execution_count": 33,
   "id": "13ccbd6c-1bdc-484e-8378-0e5db3b67e4a",
   "metadata": {},
   "outputs": [
    {
     "ename": "ModuleNotFoundError",
     "evalue": "No module named 'utils_plotly'",
     "output_type": "error",
     "traceback": [
      "\u001b[0;31m---------------------------------------------------------------------------\u001b[0m",
      "\u001b[0;31mModuleNotFoundError\u001b[0m                       Traceback (most recent call last)",
      "Cell \u001b[0;32mIn[33], line 1\u001b[0m\n\u001b[0;32m----> 1\u001b[0m \u001b[38;5;28;01mimport\u001b[39;00m \u001b[38;5;21;01mutils_plotly\u001b[39;00m\n",
      "\u001b[0;31mModuleNotFoundError\u001b[0m: No module named 'utils_plotly'"
     ]
    }
   ],
   "source": []
  }
 ],
 "metadata": {
  "kernelspec": {
   "display_name": "Python 3 (ipykernel)",
   "language": "python",
   "name": "python3"
  },
  "language_info": {
   "codemirror_mode": {
    "name": "ipython",
    "version": 3
   },
   "file_extension": ".py",
   "mimetype": "text/x-python",
   "name": "python",
   "nbconvert_exporter": "python",
   "pygments_lexer": "ipython3",
   "version": "3.10.16"
  }
 },
 "nbformat": 4,
 "nbformat_minor": 5
}
